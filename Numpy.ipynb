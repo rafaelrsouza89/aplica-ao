{
 "cells": [
  {
   "cell_type": "code",
   "execution_count": 1,
   "id": "cddb90ef-ed61-4851-9ed5-e7c73819d6b1",
   "metadata": {},
   "outputs": [],
   "source": [
    "vet = []"
   ]
  },
  {
   "cell_type": "code",
   "execution_count": 3,
   "id": "c178f208-5911-40b5-a55d-58b0f5b9b7db",
   "metadata": {},
   "outputs": [],
   "source": [
    "vet = [2,3,3,4]"
   ]
  },
  {
   "cell_type": "code",
   "execution_count": 5,
   "id": "46e48761-6725-4315-93e0-55762cf96abb",
   "metadata": {},
   "outputs": [
    {
     "name": "stdout",
     "output_type": "stream",
     "text": [
      "[2, 3, 3, 4]\n"
     ]
    }
   ],
   "source": [
    "print(vet)"
   ]
  },
  {
   "cell_type": "code",
   "execution_count": 7,
   "id": "04447135-8f64-44fd-a002-2e22be25c8ff",
   "metadata": {},
   "outputs": [
    {
     "name": "stdout",
     "output_type": "stream",
     "text": [
      "valor: 2\n",
      "valor: 3\n",
      "valor: 3\n",
      "valor: 4\n"
     ]
    }
   ],
   "source": [
    "for i in vet:\n",
    "    print(f\"valor: {i}\")"
   ]
  },
  {
   "cell_type": "code",
   "execution_count": 9,
   "id": "4b4a9c8f-ec32-46bc-99a3-eb1b68867921",
   "metadata": {},
   "outputs": [
    {
     "ename": "SyntaxError",
     "evalue": "invalid syntax (1434507875.py, line 1)",
     "output_type": "error",
     "traceback": [
      "\u001b[1;36m  Cell \u001b[1;32mIn[9], line 1\u001b[1;36m\u001b[0m\n\u001b[1;33m    vet[]\u001b[0m\n\u001b[1;37m        ^\u001b[0m\n\u001b[1;31mSyntaxError\u001b[0m\u001b[1;31m:\u001b[0m invalid syntax\n"
     ]
    }
   ],
   "source": [
    "vet[]\n"
   ]
  },
  {
   "cell_type": "code",
   "execution_count": 11,
   "id": "460045e2-8db7-4793-b35c-e078cc9680c3",
   "metadata": {},
   "outputs": [],
   "source": [
    "vet = []"
   ]
  },
  {
   "cell_type": "code",
   "execution_count": 15,
   "id": "650ca64e-a5e6-4f25-bfd3-475706ed8d68",
   "metadata": {},
   "outputs": [
    {
     "name": "stderr",
     "output_type": "stream",
     "text": [
      "<>:1: SyntaxWarning: 'int' object is not subscriptable; perhaps you missed a comma?\n",
      "<>:1: SyntaxWarning: 'int' object is not subscriptable; perhaps you missed a comma?\n",
      "C:\\Users\\aluno\\AppData\\Local\\Temp\\ipykernel_10576\\87848922.py:1: SyntaxWarning: 'int' object is not subscriptable; perhaps you missed a comma?\n",
      "  vet = 1 [1,2,3,4,5,6,7,8,9,10]\n",
      "C:\\Users\\aluno\\AppData\\Local\\Temp\\ipykernel_10576\\87848922.py:1: SyntaxWarning: 'int' object is not subscriptable; perhaps you missed a comma?\n",
      "  vet = 1 [1,2,3,4,5,6,7,8,9,10]\n",
      "C:\\Users\\aluno\\AppData\\Local\\Temp\\ipykernel_10576\\87848922.py:1: SyntaxWarning: 'int' object is not subscriptable; perhaps you missed a comma?\n",
      "  vet = 1 [1,2,3,4,5,6,7,8,9,10]\n",
      "C:\\Users\\aluno\\AppData\\Local\\Temp\\ipykernel_10576\\87848922.py:1: SyntaxWarning: 'int' object is not subscriptable; perhaps you missed a comma?\n",
      "  vet = 1 [1,2,3,4,5,6,7,8,9,10]\n",
      "C:\\Users\\aluno\\AppData\\Local\\Temp\\ipykernel_10576\\87848922.py:1: SyntaxWarning: 'int' object is not subscriptable; perhaps you missed a comma?\n",
      "  vet = 1 [1,2,3,4,5,6,7,8,9,10]\n"
     ]
    },
    {
     "ename": "TypeError",
     "evalue": "'int' object is not subscriptable",
     "output_type": "error",
     "traceback": [
      "\u001b[1;31m---------------------------------------------------------------------------\u001b[0m",
      "\u001b[1;31mTypeError\u001b[0m                                 Traceback (most recent call last)",
      "Cell \u001b[1;32mIn[15], line 1\u001b[0m\n\u001b[1;32m----> 1\u001b[0m vet \u001b[38;5;241m=\u001b[39m \u001b[38;5;241m1\u001b[39m [\u001b[38;5;241m1\u001b[39m,\u001b[38;5;241m2\u001b[39m,\u001b[38;5;241m3\u001b[39m,\u001b[38;5;241m4\u001b[39m,\u001b[38;5;241m5\u001b[39m,\u001b[38;5;241m6\u001b[39m,\u001b[38;5;241m7\u001b[39m,\u001b[38;5;241m8\u001b[39m,\u001b[38;5;241m9\u001b[39m,\u001b[38;5;241m10\u001b[39m]\n",
      "\u001b[1;31mTypeError\u001b[0m: 'int' object is not subscriptable"
     ]
    }
   ],
   "source": [
    "vet = 1 [1,2,3,4,5,6,7,8,9,10]"
   ]
  },
  {
   "cell_type": "code",
   "execution_count": 23,
   "id": "a1fc7266-3d54-4e1d-a019-d43a134090b5",
   "metadata": {},
   "outputs": [
    {
     "name": "stdout",
     "output_type": "stream",
     "text": [
      "1.1) Soma do 1º vetor: 55\n",
      "1.2) Soma do 2º vetor: 55\n",
      "2) Produto elemento a elemento: [1, 4, 9, 16, 25, 36, 49, 64, 81, 100]\n",
      "3) Média: 5.5\n"
     ]
    }
   ],
   "source": [
    "vet1 = [1,2,3,4,5,6,7,8,9,10]\n",
    "vet2 = [1,2,3,4,5,6,7,8,9,10]\n",
    "\n",
    "def somaVetores(v):\n",
    "    soma = 0\n",
    "    for i in v:\n",
    "        soma += i\n",
    "    return soma\n",
    "\n",
    "def produtoElementoAElemento(v1, v2):\n",
    "    resultante = []\n",
    "    for i in range(len(v1)):\n",
    "        resultante.append(v1[i] * v2[i])\n",
    "    return (resultante)\n",
    "    \n",
    "print(f\"1.1) Soma do 1º vetor: {somaVetores(vet1)}\")\n",
    "print(f\"1.2) Soma do 2º vetor: {somaVetores(vet2)}\")\n",
    "print(f\"2) Produto elemento a elemento: {produtoElementoAElemento(vet1, vet2)}\")\n",
    "media = (somaVetores(vet1) + somaVetores(vet2))/(len(vet1) + len(vet2))\n",
    "print(f\"3) Média: {media}\")\n",
    "\n"
   ]
  },
  {
   "cell_type": "code",
   "execution_count": 25,
   "id": "4ec539be-dda6-4835-99a8-62717b25960b",
   "metadata": {},
   "outputs": [],
   "source": [
    "import numpy as np"
   ]
  },
  {
   "cell_type": "code",
   "execution_count": 27,
   "id": "ecea3831-9b9e-4de8-8f86-dcfcca7111d8",
   "metadata": {},
   "outputs": [
    {
     "name": "stdout",
     "output_type": "stream",
     "text": [
      "[[ 1  2  3  4  5  6  7  8  9 10]]\n"
     ]
    }
   ],
   "source": [
    "array = np.array([vet1])\n",
    "print(array)"
   ]
  },
  {
   "cell_type": "code",
   "execution_count": 29,
   "id": "03e1e47c-2bc0-43aa-baf8-4267b7ef2efe",
   "metadata": {},
   "outputs": [
    {
     "ename": "SyntaxError",
     "evalue": "invalid syntax (907801995.py, line 1)",
     "output_type": "error",
     "traceback": [
      "\u001b[1;36m  Cell \u001b[1;32mIn[29], line 1\u001b[1;36m\u001b[0m\n\u001b[1;33m    []:\u001b[0m\n\u001b[1;37m      ^\u001b[0m\n\u001b[1;31mSyntaxError\u001b[0m\u001b[1;31m:\u001b[0m invalid syntax\n"
     ]
    }
   ],
   "source": [
    "[]:"
   ]
  },
  {
   "cell_type": "code",
   "execution_count": 33,
   "id": "0287fc8a-5756-408a-bf75-e97779e0b7a9",
   "metadata": {},
   "outputs": [
    {
     "data": {
      "text/plain": [
       "10"
      ]
     },
     "execution_count": 33,
     "metadata": {},
     "output_type": "execute_result"
    }
   ],
   "source": [
    "array.size"
   ]
  },
  {
   "cell_type": "code",
   "execution_count": 39,
   "id": "32a173f4-affe-4984-babc-4ad53b878d09",
   "metadata": {},
   "outputs": [
    {
     "name": "stdout",
     "output_type": "stream",
     "text": [
      "[[ 2  4  6  8 10 12 14 16 18 20]]\n"
     ]
    }
   ],
   "source": [
    "resultado = (array * 2)\n",
    "print(resultado)"
   ]
  },
  {
   "cell_type": "code",
   "execution_count": 41,
   "id": "1f94141e-737d-4901-9120-9c2e020123be",
   "metadata": {},
   "outputs": [
    {
     "name": "stdout",
     "output_type": "stream",
     "text": [
      "Soma 1º: 55\n",
      "Soma 2º: 55\n",
      "Produto el a el: [  1   4   9  16  25  36  49  64  81 100]\n",
      "Soma: [ 2  4  6  8 10 12 14 16 18 20]\n",
      "Media:11.0\n"
     ]
    }
   ],
   "source": [
    "a = np.array(vet1)\n",
    "b = np.array(vet2)\n",
    "print(f\"Soma 1º: {a.sum()}\")\n",
    "print(f\"Soma 2º: {b.sum()}\")\n",
    "print(f\"Produto el a el: {a * b}\")\n",
    "soma = a + b\n",
    "\n",
    "print(f\"Soma: {soma}\")\n",
    "print(f\"Media:{soma.mean()}\")\n"
   ]
  },
  {
   "cell_type": "code",
   "execution_count": 67,
   "id": "45437c4e-dbf1-4067-9ec6-20f4ce1c9e77",
   "metadata": {},
   "outputs": [
    {
     "name": "stdout",
     "output_type": "stream",
     "text": [
      "Lista: 1.193336009979248\n",
      "Array np: 0.017078876495361328\n",
      "Numpy é 69.87204400145183x mais rápido!\n"
     ]
    }
   ],
   "source": [
    "import numpy as np\n",
    "import time\n",
    "\n",
    "# com listas\n",
    "def benchmark_listas(n):\n",
    "    a = list(range(n))\n",
    "    b = list(range(n))\n",
    "    start = time.time()\n",
    "    c = [a[i] + b[i] for i in range(n)]\n",
    "    return time.time() - start\n",
    "\n",
    "def benchamark_np(n):\n",
    "    a = np.arange(n)\n",
    "    b = np.arange(n)\n",
    "    start = time.time()\n",
    "    c = a + b\n",
    "    return time.time() - start\n",
    "\n",
    "tamanho = 10_000_000\n",
    "tempo_lista = benchmark_listas (tamanho)\n",
    "tempo_np = benchamark_np(tamanho)\n",
    "\n",
    "print(f\"Lista: {tempo_lista}\")\n",
    "print(f\"Array np: {tempo_np}\")\n",
    "print(f\"Numpy é {tempo_lista / tempo_np}x mais rápido!\")"
   ]
  },
  {
   "cell_type": "code",
   "execution_count": 53,
   "id": "1bf465ba-63fb-48dc-8fdd-48144e6910a3",
   "metadata": {},
   "outputs": [],
   "source": [
    "import matplotlib.pyplot as plt\n",
    "\n",
    "tamanhos = [1_000, 10_000, 100_000, 1_000_000, 10_000_000]\n",
    "tempos_listas = [benchmark_listas(n) for n in tamanhos]\n",
    "tempos_np = [benchamark_np(n) for n in tamanhos]"
   ]
  },
  {
   "cell_type": "code",
   "execution_count": 81,
   "id": "1c1b2758-1e08-455f-94da-8522b1114bdb",
   "metadata": {},
   "outputs": [
    {
     "data": {
      "text/plain": [
       "<function matplotlib.pyplot.show(close=None, block=None)>"
      ]
     },
     "execution_count": 81,
     "metadata": {},
     "output_type": "execute_result"
    },
    {
     "data": {
      "image/png": "[encoded data removed]",
      "text/plain": [
       "<Figure size 640x480 with 1 Axes>"
      ]
     },
     "metadata": {},
     "output_type": "display_data"
    }
   ],
   "source": [
    "plt.plot(tamanhos, tempos_listas, label='Listas em Python', marker='o')\n",
    "plt.plot(tamanhos, tempos_np, label='Arrays NumPy', marker='s')\n",
    "plt.xlabel('Tamanho do vetor')\n",
    "plt.ylabel('Tempo (s)')\n",
    "plt.title('Desempenho: Listas vs NumPy')\n",
    "plt.legend()\n",
    "plt.grid(True)\n",
    "plt.show"
   ]
  },
  {
   "cell_type": "code",
   "execution_count": 65,
   "id": "4eb2415c-0f74-42fc-bc4b-ea3116c67fad",
   "metadata": {},
   "outputs": [
    {
     "name": "stdout",
     "output_type": "stream",
     "text": [
      "Maiores que 5: [False False False False  True  True  True]\n",
      "Igual a 2: [False  True False False False False False]\n",
      "Menor ou igual a 2: [ True  True False False False False False]\n"
     ]
    }
   ],
   "source": [
    "import numpy as np\n",
    "\n",
    "array = np.array([1,2,4,5,7,9,8])\n",
    "\n",
    "# Comparação retorna arrays booleans\n",
    "print(f\"Maiores que 5: {array > 5}\")\n",
    "print(f\"Igual a 2: {array == 2}\")\n",
    "print(f\"Menor ou igual a 2: {array <= 2}\")"
   ]
  },
  {
   "cell_type": "code",
   "execution_count": 79,
   "id": "16e7e88a-0ec9-455c-a609-f3c0eb31f4c0",
   "metadata": {},
   "outputs": [
    {
     "name": "stdout",
     "output_type": "stream",
     "text": [
      "[5 7 9]\n"
     ]
    }
   ],
   "source": [
    "print(array[3:6])"
   ]
  },
  {
   "cell_type": "code",
   "execution_count": 83,
   "id": "8a9e6205-c5d8-4aa3-a790-5a70cd51c852",
   "metadata": {},
   "outputs": [
    {
     "name": "stdout",
     "output_type": "stream",
     "text": [
      "Maiore que 3 e menor que 7:[4 5]\n",
      "menor que 3 e maior que 7:[1 2 9 8]\n",
      "Diferente de 7:[1 2 4 5 9 8]\n",
      "Todos os elemetnos são maiores que -2: True\n",
      "Algum elemento é 10: False\n"
     ]
    }
   ],
   "source": [
    "# maior que 3 e menor que 7\n",
    "filtro = (array > 3) & (array < 7)\n",
    "print(f\"Maiore que 3 e menor que 7:{array[filtro]}\")\n",
    "\n",
    "# menores que 3 e maiores que 7\n",
    "filtro = (array < 3) | (array > 7)\n",
    "print(f\"menor que 3 e maior que 7:{array[filtro]}\")\n",
    "\n",
    "# negação para 7\n",
    "filtro = ~(array == 7)\n",
    "print(f\"Diferente de 7:{array[filtro]}\")\n",
    "\n",
    "# Verificar se todos os valores são maiores que x\n",
    "print(f\"Todos os elemetnos são maiores que -2: {np.all(array >-2)}\")\n",
    "\n",
    "#Verificar se temos o numero x\n",
    "print(f\"Algum elemento é 10: {np.all(array ==10)}\")"
   ]
  },
  {
   "cell_type": "code",
   "execution_count": 85,
   "id": "a6af78c5-254e-47ea-aa44-5004e68383aa",
   "metadata": {},
   "outputs": [
    {
     "name": "stdout",
     "output_type": "stream",
     "text": [
      "Array de 10 elementos com o valor 5:\n",
      "[5 5 5 5 5 5 5 5 5 5]\n",
      "\n",
      "Array de 10 elementos de 0 a 9:\n",
      "[0 1 2 3 4 5 6 7 8 9]\n",
      "\n",
      "Matriz 3x3 com valores aleatórios entre 0 e 1:\n",
      "[[6.26951766e-01 6.99291975e-01 8.17647342e-01]\n",
      " [8.46582182e-01 9.00706117e-01 2.67343904e-01]\n",
      " [8.37049142e-02 7.91495064e-01 7.81492415e-04]]\n",
      "\n",
      "Array de 5 elementos alternando True e False:\n",
      "[ True False  True False  True]\n"
     ]
    }
   ],
   "source": [
    "import numpy as np\n",
    "\n",
    "#  array de 10 elementos, todos com o valor 5.\n",
    "array_de_cincos = np.full(10, 5)\n",
    "print(f\"Array de 10 elementos com o valor 5:\\n{array_de_cincos}\\n\")\n",
    "\n",
    "#  array de 10 elementos, com valores de 0 a 9.\n",
    "array_sequencial = np.arange(10)\n",
    "print(f\"Array de 10 elementos de 0 a 9:\\n{array_sequencial}\\n\")\n",
    "\n",
    "#  matriz 3x3 com valores aleatórios entre 0 e 1.\n",
    "matriz_aleatoria = np.random.rand(3, 3)\n",
    "print(f\"Matriz 3x3 com valores aleatórios entre 0 e 1:\\n{matriz_aleatoria}\\n\")\n",
    "\n",
    "#  array de 5 elementos, alternando entre True e False.\n",
    "array_booleano = np.array([True, False] * 2 + [True])\n",
    "print(f\"Array de 5 elementos alternando True e False:\\n{array_booleano}\")"
   ]
  },
  {
   "cell_type": "code",
   "execution_count": null,
   "id": "76f8816a-d5e4-4bc8-a572-6ae649a205e4",
   "metadata": {},
   "outputs": [],
   "source": []
  }
 ],
 "metadata": {
  "kernelspec": {
   "display_name": "Python 3 (ipykernel)",
   "language": "python",
   "name": "python3"
  },
  "language_info": {
   "codemirror_mode": {
    "name": "ipython",
    "version": 3
   },
   "file_extension": ".py",
   "mimetype": "text/x-python",
   "name": "python",
   "nbconvert_exporter": "python",
   "pygments_lexer": "ipython3",
   "version": "3.12.4"
  }
 },
 "nbformat": 4,
 "nbformat_minor": 5
}
